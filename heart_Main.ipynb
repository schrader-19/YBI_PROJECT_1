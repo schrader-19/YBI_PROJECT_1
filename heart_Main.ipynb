{
  "cells": [
    {
      "cell_type": "markdown",
      "source": [
        "**TITLE : MACHINE LEARNING BASED HEART DISEASE PREDICTION**"
      ],
      "metadata": {
        "id": "udprfWToHwKL"
      }
    },
    {
      "cell_type": "markdown",
      "source": [
        "**OBJECTIVE :** To predict whether a patient has heart disease"
      ],
      "metadata": {
        "id": "J38U6sSqIR4l"
      }
    },
    {
      "cell_type": "markdown",
      "source": [
        "**Import Library**"
      ],
      "metadata": {
        "id": "M-nVA3yIIwne"
      }
    },
    {
      "cell_type": "code",
      "source": [
        "#importing libraries\n",
        "import pandas as pd\n",
        "import matplotlib.pyplot as plt\n",
        "from functools import reduce"
      ],
      "metadata": {
        "id": "imSFCo_iHcQs"
      },
      "execution_count": null,
      "outputs": []
    },
    {
      "cell_type": "markdown",
      "source": [
        "**Import Data**"
      ],
      "metadata": {
        "id": "pgMtn24jI5I7"
      }
    },
    {
      "cell_type": "code",
      "execution_count": null,
      "metadata": {
        "id": "dEP2jCdcHWY1"
      },
      "outputs": [],
      "source": [
        "#reading dataset\n",
        "df = pd.read_csv('hearts.csv')"
      ]
    },
    {
      "cell_type": "code",
      "execution_count": null,
      "metadata": {
        "id": "bW9mRAFPHWY1",
        "outputId": "6aa6469d-978c-4088-e674-3407f413c109"
      },
      "outputs": [
        {
          "data": {
            "text/html": [
              "<div>\n",
              "<style scoped>\n",
              "    .dataframe tbody tr th:only-of-type {\n",
              "        vertical-align: middle;\n",
              "    }\n",
              "\n",
              "    .dataframe tbody tr th {\n",
              "        vertical-align: top;\n",
              "    }\n",
              "\n",
              "    .dataframe thead th {\n",
              "        text-align: right;\n",
              "    }\n",
              "</style>\n",
              "<table border=\"1\" class=\"dataframe\">\n",
              "  <thead>\n",
              "    <tr style=\"text-align: right;\">\n",
              "      <th></th>\n",
              "      <th>Id</th>\n",
              "      <th>age</th>\n",
              "      <th>sex</th>\n",
              "      <th>cp</th>\n",
              "      <th>trestbps</th>\n",
              "      <th>chol</th>\n",
              "      <th>fbs</th>\n",
              "      <th>restecg</th>\n",
              "      <th>thalach</th>\n",
              "      <th>exang</th>\n",
              "      <th>oldpeak</th>\n",
              "      <th>slope</th>\n",
              "      <th>ca</th>\n",
              "      <th>thal</th>\n",
              "      <th>target</th>\n",
              "    </tr>\n",
              "  </thead>\n",
              "  <tbody>\n",
              "    <tr>\n",
              "      <th>0</th>\n",
              "      <td>1</td>\n",
              "      <td>52</td>\n",
              "      <td>1</td>\n",
              "      <td>0</td>\n",
              "      <td>125</td>\n",
              "      <td>212</td>\n",
              "      <td>0</td>\n",
              "      <td>1</td>\n",
              "      <td>168</td>\n",
              "      <td>0</td>\n",
              "      <td>1.0</td>\n",
              "      <td>2</td>\n",
              "      <td>2</td>\n",
              "      <td>3</td>\n",
              "      <td>0</td>\n",
              "    </tr>\n",
              "    <tr>\n",
              "      <th>1</th>\n",
              "      <td>2</td>\n",
              "      <td>53</td>\n",
              "      <td>1</td>\n",
              "      <td>0</td>\n",
              "      <td>140</td>\n",
              "      <td>203</td>\n",
              "      <td>1</td>\n",
              "      <td>0</td>\n",
              "      <td>155</td>\n",
              "      <td>1</td>\n",
              "      <td>3.1</td>\n",
              "      <td>0</td>\n",
              "      <td>0</td>\n",
              "      <td>3</td>\n",
              "      <td>0</td>\n",
              "    </tr>\n",
              "    <tr>\n",
              "      <th>2</th>\n",
              "      <td>3</td>\n",
              "      <td>70</td>\n",
              "      <td>1</td>\n",
              "      <td>0</td>\n",
              "      <td>145</td>\n",
              "      <td>174</td>\n",
              "      <td>0</td>\n",
              "      <td>1</td>\n",
              "      <td>125</td>\n",
              "      <td>1</td>\n",
              "      <td>2.6</td>\n",
              "      <td>0</td>\n",
              "      <td>0</td>\n",
              "      <td>3</td>\n",
              "      <td>0</td>\n",
              "    </tr>\n",
              "    <tr>\n",
              "      <th>3</th>\n",
              "      <td>4</td>\n",
              "      <td>61</td>\n",
              "      <td>1</td>\n",
              "      <td>0</td>\n",
              "      <td>148</td>\n",
              "      <td>203</td>\n",
              "      <td>0</td>\n",
              "      <td>1</td>\n",
              "      <td>161</td>\n",
              "      <td>0</td>\n",
              "      <td>0.0</td>\n",
              "      <td>2</td>\n",
              "      <td>1</td>\n",
              "      <td>3</td>\n",
              "      <td>0</td>\n",
              "    </tr>\n",
              "    <tr>\n",
              "      <th>4</th>\n",
              "      <td>5</td>\n",
              "      <td>62</td>\n",
              "      <td>0</td>\n",
              "      <td>0</td>\n",
              "      <td>138</td>\n",
              "      <td>294</td>\n",
              "      <td>1</td>\n",
              "      <td>1</td>\n",
              "      <td>106</td>\n",
              "      <td>0</td>\n",
              "      <td>1.9</td>\n",
              "      <td>1</td>\n",
              "      <td>3</td>\n",
              "      <td>2</td>\n",
              "      <td>0</td>\n",
              "    </tr>\n",
              "    <tr>\n",
              "      <th>...</th>\n",
              "      <td>...</td>\n",
              "      <td>...</td>\n",
              "      <td>...</td>\n",
              "      <td>...</td>\n",
              "      <td>...</td>\n",
              "      <td>...</td>\n",
              "      <td>...</td>\n",
              "      <td>...</td>\n",
              "      <td>...</td>\n",
              "      <td>...</td>\n",
              "      <td>...</td>\n",
              "      <td>...</td>\n",
              "      <td>...</td>\n",
              "      <td>...</td>\n",
              "      <td>...</td>\n",
              "    </tr>\n",
              "    <tr>\n",
              "      <th>1020</th>\n",
              "      <td>1021</td>\n",
              "      <td>59</td>\n",
              "      <td>1</td>\n",
              "      <td>1</td>\n",
              "      <td>140</td>\n",
              "      <td>221</td>\n",
              "      <td>0</td>\n",
              "      <td>1</td>\n",
              "      <td>164</td>\n",
              "      <td>1</td>\n",
              "      <td>0.0</td>\n",
              "      <td>2</td>\n",
              "      <td>0</td>\n",
              "      <td>2</td>\n",
              "      <td>1</td>\n",
              "    </tr>\n",
              "    <tr>\n",
              "      <th>1021</th>\n",
              "      <td>1022</td>\n",
              "      <td>60</td>\n",
              "      <td>1</td>\n",
              "      <td>0</td>\n",
              "      <td>125</td>\n",
              "      <td>258</td>\n",
              "      <td>0</td>\n",
              "      <td>0</td>\n",
              "      <td>141</td>\n",
              "      <td>1</td>\n",
              "      <td>2.8</td>\n",
              "      <td>1</td>\n",
              "      <td>1</td>\n",
              "      <td>3</td>\n",
              "      <td>0</td>\n",
              "    </tr>\n",
              "    <tr>\n",
              "      <th>1022</th>\n",
              "      <td>1023</td>\n",
              "      <td>47</td>\n",
              "      <td>1</td>\n",
              "      <td>0</td>\n",
              "      <td>110</td>\n",
              "      <td>275</td>\n",
              "      <td>0</td>\n",
              "      <td>0</td>\n",
              "      <td>118</td>\n",
              "      <td>1</td>\n",
              "      <td>1.0</td>\n",
              "      <td>1</td>\n",
              "      <td>1</td>\n",
              "      <td>2</td>\n",
              "      <td>0</td>\n",
              "    </tr>\n",
              "    <tr>\n",
              "      <th>1023</th>\n",
              "      <td>1024</td>\n",
              "      <td>50</td>\n",
              "      <td>0</td>\n",
              "      <td>0</td>\n",
              "      <td>110</td>\n",
              "      <td>254</td>\n",
              "      <td>0</td>\n",
              "      <td>0</td>\n",
              "      <td>159</td>\n",
              "      <td>0</td>\n",
              "      <td>0.0</td>\n",
              "      <td>2</td>\n",
              "      <td>0</td>\n",
              "      <td>2</td>\n",
              "      <td>1</td>\n",
              "    </tr>\n",
              "    <tr>\n",
              "      <th>1024</th>\n",
              "      <td>1025</td>\n",
              "      <td>54</td>\n",
              "      <td>1</td>\n",
              "      <td>0</td>\n",
              "      <td>120</td>\n",
              "      <td>188</td>\n",
              "      <td>0</td>\n",
              "      <td>1</td>\n",
              "      <td>113</td>\n",
              "      <td>0</td>\n",
              "      <td>1.4</td>\n",
              "      <td>1</td>\n",
              "      <td>1</td>\n",
              "      <td>3</td>\n",
              "      <td>0</td>\n",
              "    </tr>\n",
              "  </tbody>\n",
              "</table>\n",
              "<p>1025 rows × 15 columns</p>\n",
              "</div>"
            ],
            "text/plain": [
              "        Id  age  sex  cp  trestbps  chol  fbs  restecg  thalach  exang  \\\n",
              "0        1   52    1   0       125   212    0        1      168      0   \n",
              "1        2   53    1   0       140   203    1        0      155      1   \n",
              "2        3   70    1   0       145   174    0        1      125      1   \n",
              "3        4   61    1   0       148   203    0        1      161      0   \n",
              "4        5   62    0   0       138   294    1        1      106      0   \n",
              "...    ...  ...  ...  ..       ...   ...  ...      ...      ...    ...   \n",
              "1020  1021   59    1   1       140   221    0        1      164      1   \n",
              "1021  1022   60    1   0       125   258    0        0      141      1   \n",
              "1022  1023   47    1   0       110   275    0        0      118      1   \n",
              "1023  1024   50    0   0       110   254    0        0      159      0   \n",
              "1024  1025   54    1   0       120   188    0        1      113      0   \n",
              "\n",
              "      oldpeak  slope  ca  thal  target  \n",
              "0         1.0      2   2     3       0  \n",
              "1         3.1      0   0     3       0  \n",
              "2         2.6      0   0     3       0  \n",
              "3         0.0      2   1     3       0  \n",
              "4         1.9      1   3     2       0  \n",
              "...       ...    ...  ..   ...     ...  \n",
              "1020      0.0      2   0     2       1  \n",
              "1021      2.8      1   1     3       0  \n",
              "1022      1.0      1   1     2       0  \n",
              "1023      0.0      2   0     2       1  \n",
              "1024      1.4      1   1     3       0  \n",
              "\n",
              "[1025 rows x 15 columns]"
            ]
          },
          "execution_count": 8,
          "metadata": {},
          "output_type": "execute_result"
        }
      ],
      "source": [
        "df"
      ]
    },
    {
      "cell_type": "markdown",
      "source": [
        "**Describe Data**"
      ],
      "metadata": {
        "id": "oqM20sinJAxj"
      }
    },
    {
      "cell_type": "code",
      "execution_count": null,
      "metadata": {
        "id": "B37c8YlPHWY2",
        "outputId": "d69aa665-9bbd-4fa9-cb47-e98437774aaf"
      },
      "outputs": [
        {
          "data": {
            "text/plain": [
              "array([52, 53, 70, 61, 62, 58, 55, 46, 54, 71, 43, 34, 51, 50, 60, 67, 45,\n",
              "       63, 42, 44, 56, 57, 59, 64, 65, 41, 66, 38, 49, 48, 29, 37, 47, 68,\n",
              "       76, 40, 39, 77, 69, 35, 74], dtype=int64)"
            ]
          },
          "execution_count": 9,
          "metadata": {},
          "output_type": "execute_result"
        }
      ],
      "source": [
        "df['age'].unique()"
      ]
    },
    {
      "cell_type": "code",
      "execution_count": null,
      "metadata": {
        "id": "KuV3CsXxHWY2"
      },
      "outputs": [],
      "source": []
    },
    {
      "cell_type": "markdown",
      "metadata": {
        "id": "JCr_RNutHWY2"
      },
      "source": [
        "### Gender\n",
        "#### 0= Female 1= male"
      ]
    },
    {
      "cell_type": "code",
      "execution_count": null,
      "metadata": {
        "id": "sJLHaFd2HWY3",
        "outputId": "a3b4ca5e-eb2a-4a07-f1ba-96487aeef208"
      },
      "outputs": [
        {
          "data": {
            "text/plain": [
              "array([1, 0], dtype=int64)"
            ]
          },
          "execution_count": 10,
          "metadata": {},
          "output_type": "execute_result"
        }
      ],
      "source": [
        "df['sex'].unique()"
      ]
    },
    {
      "cell_type": "markdown",
      "metadata": {
        "id": "KFbeaQu5HWY4"
      },
      "source": [
        "### Chest Pain :\n",
        "#### 0= Typical angina\n",
        "#### 1= Atypical angina\n",
        "#### 2= Non-anginal pain\n",
        "#### 3 =Asymptomatic"
      ]
    },
    {
      "cell_type": "code",
      "execution_count": null,
      "metadata": {
        "id": "yJXu7qLHHWY4",
        "outputId": "3ec696a2-e9df-443b-e778-46dfac7f698f"
      },
      "outputs": [
        {
          "data": {
            "text/plain": [
              "array([0, 1, 2, 3], dtype=int64)"
            ]
          },
          "execution_count": 11,
          "metadata": {},
          "output_type": "execute_result"
        }
      ],
      "source": [
        "df['cp'].unique()"
      ]
    },
    {
      "cell_type": "markdown",
      "metadata": {
        "id": "hWYQA6k5HWY4"
      },
      "source": [
        "### Resting Blood Pressure"
      ]
    },
    {
      "cell_type": "code",
      "execution_count": null,
      "metadata": {
        "id": "_MbP9MK1HWY4",
        "outputId": "0c937915-adb3-414a-8faa-dd8ec0a52979"
      },
      "outputs": [
        {
          "data": {
            "text/plain": [
              "array([125, 140, 145, 148, 138, 100, 114, 160, 120, 122, 112, 132, 118,\n",
              "       128, 124, 106, 104, 135, 130, 136, 180, 129, 150, 178, 146, 117,\n",
              "       152, 154, 170, 134, 174, 144, 108, 123, 110, 142, 126, 192, 115,\n",
              "        94, 200, 165, 102, 105, 155, 172, 164, 156, 101], dtype=int64)"
            ]
          },
          "execution_count": 12,
          "metadata": {},
          "output_type": "execute_result"
        }
      ],
      "source": [
        "df['trestbps'].unique()"
      ]
    },
    {
      "cell_type": "markdown",
      "metadata": {
        "id": "IcAa1wgKHWY4"
      },
      "source": [
        "### Serum Cholestrol"
      ]
    },
    {
      "cell_type": "code",
      "execution_count": null,
      "metadata": {
        "id": "myrGjJhSHWY5",
        "outputId": "59f0af14-b452-4cf3-ac6a-e66de76c9310"
      },
      "outputs": [
        {
          "data": {
            "text/plain": [
              "array([212, 203, 174, 294, 248, 318, 289, 249, 286, 149, 341, 210, 298,\n",
              "       204, 308, 266, 244, 211, 185, 223, 208, 252, 209, 307, 233, 319,\n",
              "       256, 327, 169, 131, 269, 196, 231, 213, 271, 263, 229, 360, 258,\n",
              "       330, 342, 226, 228, 278, 230, 283, 241, 175, 188, 217, 193, 245,\n",
              "       232, 299, 288, 197, 315, 215, 164, 326, 207, 177, 257, 255, 187,\n",
              "       201, 220, 268, 267, 236, 303, 282, 126, 309, 186, 275, 281, 206,\n",
              "       335, 218, 254, 295, 417, 260, 240, 302, 192, 225, 325, 235, 274,\n",
              "       234, 182, 167, 172, 321, 300, 199, 564, 157, 304, 222, 184, 354,\n",
              "       160, 247, 239, 246, 409, 293, 180, 250, 221, 200, 227, 243, 311,\n",
              "       261, 242, 205, 306, 219, 353, 198, 394, 183, 237, 224, 265, 313,\n",
              "       340, 259, 270, 216, 264, 276, 322, 214, 273, 253, 176, 284, 305,\n",
              "       168, 407, 290, 277, 262, 195, 166, 178, 141], dtype=int64)"
            ]
          },
          "execution_count": 13,
          "metadata": {},
          "output_type": "execute_result"
        }
      ],
      "source": [
        "df['chol'].unique()"
      ]
    },
    {
      "cell_type": "markdown",
      "metadata": {
        "id": "-W2PGJ-ZHWY5"
      },
      "source": [
        "### Fasting Blood Sugar\n",
        "#### 0= false 1= true"
      ]
    },
    {
      "cell_type": "code",
      "execution_count": null,
      "metadata": {
        "id": "HpaMc-kqHWY5",
        "outputId": "a270a082-e83c-4caf-858d-5ada5d1f5def"
      },
      "outputs": [
        {
          "data": {
            "text/plain": [
              "array([0, 1], dtype=int64)"
            ]
          },
          "execution_count": 14,
          "metadata": {},
          "output_type": "execute_result"
        }
      ],
      "source": [
        "df['fbs'].unique()"
      ]
    },
    {
      "cell_type": "markdown",
      "metadata": {
        "id": "n7EByl0uHWY5"
      },
      "source": [
        "### Resting ECG\n",
        "\n",
        "#### 0 = Nothing to note\n",
        "#### 1 = ST-T Wave abnormality\n",
        "#### 2 = Possible or definite left ventricular hypertrophy"
      ]
    },
    {
      "cell_type": "code",
      "execution_count": null,
      "metadata": {
        "id": "x0odTvpaHWY5",
        "outputId": "f781cfb6-0b56-4017-f588-bbbaa682d1b9"
      },
      "outputs": [
        {
          "data": {
            "text/plain": [
              "array([1, 0, 2], dtype=int64)"
            ]
          },
          "execution_count": 15,
          "metadata": {},
          "output_type": "execute_result"
        }
      ],
      "source": [
        "df['restecg'].unique()"
      ]
    },
    {
      "cell_type": "markdown",
      "metadata": {
        "id": "chYdOj9PHWY5"
      },
      "source": [
        "### Thalassemia"
      ]
    },
    {
      "cell_type": "code",
      "execution_count": null,
      "metadata": {
        "id": "3jD1zc_wHWY5",
        "outputId": "0a5e8f94-1561-4f23-813d-d93eead5a9d6"
      },
      "outputs": [
        {
          "data": {
            "text/plain": [
              "array([168, 155, 125, 161, 106, 122, 140, 145, 144, 116, 136, 192, 156,\n",
              "       142, 109, 162, 165, 148, 172, 173, 146, 179, 152, 117, 115, 112,\n",
              "       163, 147, 182, 105, 150, 151, 169, 166, 178, 132, 160, 123, 139,\n",
              "       111, 180, 164, 202, 157, 159, 170, 138, 175, 158, 126, 143, 141,\n",
              "       167,  95, 190, 118, 103, 181, 108, 177, 134, 120, 171, 149, 154,\n",
              "       153,  88, 174, 114, 195, 133,  96, 124, 131, 185, 194, 128, 127,\n",
              "       186, 184, 188, 130,  71, 137,  99, 121, 187,  97,  90, 129, 113],\n",
              "      dtype=int64)"
            ]
          },
          "execution_count": 16,
          "metadata": {},
          "output_type": "execute_result"
        }
      ],
      "source": [
        "df['thalach'].unique()"
      ]
    },
    {
      "cell_type": "markdown",
      "metadata": {
        "id": "2EO9LKxiHWY6"
      },
      "source": [
        "### Excercise Induced Angina\n",
        "#### 0 = no  1 = yes"
      ]
    },
    {
      "cell_type": "code",
      "execution_count": null,
      "metadata": {
        "id": "eSgetmmtHWY6",
        "outputId": "e5c9f290-2d05-4d1b-c451-c153fa9007f1"
      },
      "outputs": [
        {
          "data": {
            "text/plain": [
              "array([0, 1], dtype=int64)"
            ]
          },
          "execution_count": 17,
          "metadata": {},
          "output_type": "execute_result"
        }
      ],
      "source": [
        "df['exang'].unique()"
      ]
    },
    {
      "cell_type": "markdown",
      "metadata": {
        "id": "RsHVL2Q8HWY6"
      },
      "source": [
        "### Old Peak"
      ]
    },
    {
      "cell_type": "code",
      "execution_count": null,
      "metadata": {
        "id": "mscsgNOgHWY6",
        "outputId": "97f8b97c-1f1c-4ae1-b1e6-cd68ad73bb20"
      },
      "outputs": [
        {
          "data": {
            "text/plain": [
              "array([1. , 3.1, 2.6, 0. , 1.9, 4.4, 0.8, 3.2, 1.6, 3. , 0.7, 4.2, 1.5,\n",
              "       2.2, 1.1, 0.3, 0.4, 0.6, 3.4, 2.8, 1.2, 2.9, 3.6, 1.4, 0.2, 2. ,\n",
              "       5.6, 0.9, 1.8, 6.2, 4. , 2.5, 0.5, 0.1, 2.1, 2.4, 3.8, 2.3, 1.3,\n",
              "       3.5])"
            ]
          },
          "execution_count": 18,
          "metadata": {},
          "output_type": "execute_result"
        }
      ],
      "source": [
        "df['oldpeak'].unique()"
      ]
    },
    {
      "cell_type": "markdown",
      "metadata": {
        "id": "yCsjzU_hHWY6"
      },
      "source": [
        "### Slope\n",
        "#### 0 = Upsloping 1=  Flatsloping 2 =  Downsloping"
      ]
    },
    {
      "cell_type": "code",
      "execution_count": null,
      "metadata": {
        "id": "ZdLp42FPHWY6",
        "outputId": "d483819c-a0c6-41f7-fa91-69d56e2f6cb4"
      },
      "outputs": [
        {
          "data": {
            "text/plain": [
              "array([2, 0, 1], dtype=int64)"
            ]
          },
          "execution_count": 19,
          "metadata": {},
          "output_type": "execute_result"
        }
      ],
      "source": [
        "df['slope'].unique()"
      ]
    },
    {
      "cell_type": "code",
      "execution_count": null,
      "metadata": {
        "id": "Y6D7uR5QHWY6",
        "outputId": "79bc51b4-d44f-4884-8487-ce2367b331c2"
      },
      "outputs": [
        {
          "name": "stdout",
          "output_type": "stream",
          "text": [
            "<class 'pandas.core.frame.DataFrame'>\n",
            "RangeIndex: 1025 entries, 0 to 1024\n",
            "Data columns (total 15 columns):\n",
            " #   Column    Non-Null Count  Dtype  \n",
            "---  ------    --------------  -----  \n",
            " 0   Id        1025 non-null   int64  \n",
            " 1   age       1025 non-null   int64  \n",
            " 2   sex       1025 non-null   int64  \n",
            " 3   cp        1025 non-null   int64  \n",
            " 4   trestbps  1025 non-null   int64  \n",
            " 5   chol      1025 non-null   int64  \n",
            " 6   fbs       1025 non-null   int64  \n",
            " 7   restecg   1025 non-null   int64  \n",
            " 8   thalach   1025 non-null   int64  \n",
            " 9   exang     1025 non-null   int64  \n",
            " 10  oldpeak   1025 non-null   float64\n",
            " 11  slope     1025 non-null   int64  \n",
            " 12  ca        1025 non-null   int64  \n",
            " 13  thal      1025 non-null   int64  \n",
            " 14  target    1025 non-null   int64  \n",
            "dtypes: float64(1), int64(14)\n",
            "memory usage: 120.2 KB\n"
          ]
        }
      ],
      "source": [
        "df.info()"
      ]
    },
    {
      "cell_type": "markdown",
      "source": [
        "**Define Target Variable (y) and Feature Variables (X)**"
      ],
      "metadata": {
        "id": "KfoTB0NKJKM9"
      }
    },
    {
      "cell_type": "code",
      "execution_count": null,
      "metadata": {
        "id": "v-j-mFgxHWY7"
      },
      "outputs": [],
      "source": [
        "#split into X and Y datasets\n",
        "X = df.drop(['target','ca','thal','Id'], axis = 1)\n",
        "\n",
        "y = df['target']"
      ]
    },
    {
      "cell_type": "code",
      "execution_count": null,
      "metadata": {
        "id": "4fOLwcdLHWY7",
        "outputId": "86aec783-9fc8-42e0-8536-ac14ddff5b0a"
      },
      "outputs": [
        {
          "data": {
            "text/html": [
              "<div>\n",
              "<style scoped>\n",
              "    .dataframe tbody tr th:only-of-type {\n",
              "        vertical-align: middle;\n",
              "    }\n",
              "\n",
              "    .dataframe tbody tr th {\n",
              "        vertical-align: top;\n",
              "    }\n",
              "\n",
              "    .dataframe thead th {\n",
              "        text-align: right;\n",
              "    }\n",
              "</style>\n",
              "<table border=\"1\" class=\"dataframe\">\n",
              "  <thead>\n",
              "    <tr style=\"text-align: right;\">\n",
              "      <th></th>\n",
              "      <th>age</th>\n",
              "      <th>sex</th>\n",
              "      <th>cp</th>\n",
              "      <th>trestbps</th>\n",
              "      <th>chol</th>\n",
              "      <th>fbs</th>\n",
              "      <th>restecg</th>\n",
              "      <th>thalach</th>\n",
              "      <th>exang</th>\n",
              "      <th>oldpeak</th>\n",
              "      <th>slope</th>\n",
              "    </tr>\n",
              "  </thead>\n",
              "  <tbody>\n",
              "    <tr>\n",
              "      <th>0</th>\n",
              "      <td>52</td>\n",
              "      <td>1</td>\n",
              "      <td>0</td>\n",
              "      <td>125</td>\n",
              "      <td>212</td>\n",
              "      <td>0</td>\n",
              "      <td>1</td>\n",
              "      <td>168</td>\n",
              "      <td>0</td>\n",
              "      <td>1.0</td>\n",
              "      <td>2</td>\n",
              "    </tr>\n",
              "    <tr>\n",
              "      <th>1</th>\n",
              "      <td>53</td>\n",
              "      <td>1</td>\n",
              "      <td>0</td>\n",
              "      <td>140</td>\n",
              "      <td>203</td>\n",
              "      <td>1</td>\n",
              "      <td>0</td>\n",
              "      <td>155</td>\n",
              "      <td>1</td>\n",
              "      <td>3.1</td>\n",
              "      <td>0</td>\n",
              "    </tr>\n",
              "    <tr>\n",
              "      <th>2</th>\n",
              "      <td>70</td>\n",
              "      <td>1</td>\n",
              "      <td>0</td>\n",
              "      <td>145</td>\n",
              "      <td>174</td>\n",
              "      <td>0</td>\n",
              "      <td>1</td>\n",
              "      <td>125</td>\n",
              "      <td>1</td>\n",
              "      <td>2.6</td>\n",
              "      <td>0</td>\n",
              "    </tr>\n",
              "    <tr>\n",
              "      <th>3</th>\n",
              "      <td>61</td>\n",
              "      <td>1</td>\n",
              "      <td>0</td>\n",
              "      <td>148</td>\n",
              "      <td>203</td>\n",
              "      <td>0</td>\n",
              "      <td>1</td>\n",
              "      <td>161</td>\n",
              "      <td>0</td>\n",
              "      <td>0.0</td>\n",
              "      <td>2</td>\n",
              "    </tr>\n",
              "    <tr>\n",
              "      <th>4</th>\n",
              "      <td>62</td>\n",
              "      <td>0</td>\n",
              "      <td>0</td>\n",
              "      <td>138</td>\n",
              "      <td>294</td>\n",
              "      <td>1</td>\n",
              "      <td>1</td>\n",
              "      <td>106</td>\n",
              "      <td>0</td>\n",
              "      <td>1.9</td>\n",
              "      <td>1</td>\n",
              "    </tr>\n",
              "    <tr>\n",
              "      <th>...</th>\n",
              "      <td>...</td>\n",
              "      <td>...</td>\n",
              "      <td>...</td>\n",
              "      <td>...</td>\n",
              "      <td>...</td>\n",
              "      <td>...</td>\n",
              "      <td>...</td>\n",
              "      <td>...</td>\n",
              "      <td>...</td>\n",
              "      <td>...</td>\n",
              "      <td>...</td>\n",
              "    </tr>\n",
              "    <tr>\n",
              "      <th>1020</th>\n",
              "      <td>59</td>\n",
              "      <td>1</td>\n",
              "      <td>1</td>\n",
              "      <td>140</td>\n",
              "      <td>221</td>\n",
              "      <td>0</td>\n",
              "      <td>1</td>\n",
              "      <td>164</td>\n",
              "      <td>1</td>\n",
              "      <td>0.0</td>\n",
              "      <td>2</td>\n",
              "    </tr>\n",
              "    <tr>\n",
              "      <th>1021</th>\n",
              "      <td>60</td>\n",
              "      <td>1</td>\n",
              "      <td>0</td>\n",
              "      <td>125</td>\n",
              "      <td>258</td>\n",
              "      <td>0</td>\n",
              "      <td>0</td>\n",
              "      <td>141</td>\n",
              "      <td>1</td>\n",
              "      <td>2.8</td>\n",
              "      <td>1</td>\n",
              "    </tr>\n",
              "    <tr>\n",
              "      <th>1022</th>\n",
              "      <td>47</td>\n",
              "      <td>1</td>\n",
              "      <td>0</td>\n",
              "      <td>110</td>\n",
              "      <td>275</td>\n",
              "      <td>0</td>\n",
              "      <td>0</td>\n",
              "      <td>118</td>\n",
              "      <td>1</td>\n",
              "      <td>1.0</td>\n",
              "      <td>1</td>\n",
              "    </tr>\n",
              "    <tr>\n",
              "      <th>1023</th>\n",
              "      <td>50</td>\n",
              "      <td>0</td>\n",
              "      <td>0</td>\n",
              "      <td>110</td>\n",
              "      <td>254</td>\n",
              "      <td>0</td>\n",
              "      <td>0</td>\n",
              "      <td>159</td>\n",
              "      <td>0</td>\n",
              "      <td>0.0</td>\n",
              "      <td>2</td>\n",
              "    </tr>\n",
              "    <tr>\n",
              "      <th>1024</th>\n",
              "      <td>54</td>\n",
              "      <td>1</td>\n",
              "      <td>0</td>\n",
              "      <td>120</td>\n",
              "      <td>188</td>\n",
              "      <td>0</td>\n",
              "      <td>1</td>\n",
              "      <td>113</td>\n",
              "      <td>0</td>\n",
              "      <td>1.4</td>\n",
              "      <td>1</td>\n",
              "    </tr>\n",
              "  </tbody>\n",
              "</table>\n",
              "<p>1025 rows × 11 columns</p>\n",
              "</div>"
            ],
            "text/plain": [
              "      age  sex  cp  trestbps  chol  fbs  restecg  thalach  exang  oldpeak  \\\n",
              "0      52    1   0       125   212    0        1      168      0      1.0   \n",
              "1      53    1   0       140   203    1        0      155      1      3.1   \n",
              "2      70    1   0       145   174    0        1      125      1      2.6   \n",
              "3      61    1   0       148   203    0        1      161      0      0.0   \n",
              "4      62    0   0       138   294    1        1      106      0      1.9   \n",
              "...   ...  ...  ..       ...   ...  ...      ...      ...    ...      ...   \n",
              "1020   59    1   1       140   221    0        1      164      1      0.0   \n",
              "1021   60    1   0       125   258    0        0      141      1      2.8   \n",
              "1022   47    1   0       110   275    0        0      118      1      1.0   \n",
              "1023   50    0   0       110   254    0        0      159      0      0.0   \n",
              "1024   54    1   0       120   188    0        1      113      0      1.4   \n",
              "\n",
              "      slope  \n",
              "0         2  \n",
              "1         0  \n",
              "2         0  \n",
              "3         2  \n",
              "4         1  \n",
              "...     ...  \n",
              "1020      2  \n",
              "1021      1  \n",
              "1022      1  \n",
              "1023      2  \n",
              "1024      1  \n",
              "\n",
              "[1025 rows x 11 columns]"
            ]
          },
          "execution_count": 22,
          "metadata": {},
          "output_type": "execute_result"
        }
      ],
      "source": [
        "X"
      ]
    },
    {
      "cell_type": "code",
      "execution_count": null,
      "metadata": {
        "id": "EKBCBhooHWY7",
        "outputId": "e8ffe20a-6004-4ebe-ba0b-91b62a0a119e"
      },
      "outputs": [
        {
          "data": {
            "text/plain": [
              "0       0\n",
              "1       0\n",
              "2       0\n",
              "3       0\n",
              "4       0\n",
              "       ..\n",
              "1020    1\n",
              "1021    0\n",
              "1022    0\n",
              "1023    1\n",
              "1024    0\n",
              "Name: target, Length: 1025, dtype: int64"
            ]
          },
          "execution_count": 23,
          "metadata": {},
          "output_type": "execute_result"
        }
      ],
      "source": [
        "y"
      ]
    },
    {
      "cell_type": "markdown",
      "source": [
        "**Train Test Split**"
      ],
      "metadata": {
        "id": "OPH8ByUsJe81"
      }
    },
    {
      "cell_type": "code",
      "execution_count": null,
      "metadata": {
        "id": "fkvPmAovHWY7",
        "outputId": "fe6a5c24-2353-4d93-a146-dd469ab7b855"
      },
      "outputs": [
        {
          "name": "stdout",
          "output_type": "stream",
          "text": [
            "(717, 11)\n",
            "(308, 11)\n"
          ]
        }
      ],
      "source": [
        "#splitting into training and testing sets\n",
        "from sklearn.model_selection import train_test_split\n",
        "X_train, X_test, y_train, y_test = train_test_split(X, y, test_size=0.3, random_state=9)\n",
        "print(X_train.shape)\n",
        "print(X_test.shape)"
      ]
    },
    {
      "cell_type": "markdown",
      "source": [
        "**Modeling, Prediction and Accuracy**"
      ],
      "metadata": {
        "id": "T0cWcmGmJm9G"
      }
    },
    {
      "cell_type": "markdown",
      "metadata": {
        "id": "ImRnVV2iHWY7"
      },
      "source": [
        "# Decision Tree Classifier"
      ]
    },
    {
      "cell_type": "code",
      "execution_count": null,
      "metadata": {
        "id": "2VyuehLkHWY7",
        "outputId": "7e8d9b46-2975-4fde-e74e-aa0dd272b829"
      },
      "outputs": [
        {
          "data": {
            "text/plain": [
              "DecisionTreeClassifier(random_state=0)"
            ]
          },
          "execution_count": 26,
          "metadata": {},
          "output_type": "execute_result"
        }
      ],
      "source": [
        "from sklearn.tree import DecisionTreeClassifier\n",
        "clf = DecisionTreeClassifier(random_state=0)\n",
        "clf.fit(X_train, y_train)"
      ]
    },
    {
      "cell_type": "code",
      "execution_count": null,
      "metadata": {
        "id": "wD6GN2B6HWY7",
        "outputId": "f2510df9-785d-4d39-cb8e-83942c269e4f"
      },
      "outputs": [
        {
          "name": "stdout",
          "output_type": "stream",
          "text": [
            "[[141   6]\n",
            " [  6 155]]\n"
          ]
        },
        {
          "data": {
            "text/plain": [
              "0.961038961038961"
            ]
          },
          "execution_count": 27,
          "metadata": {},
          "output_type": "execute_result"
        }
      ],
      "source": [
        "from sklearn.metrics import accuracy_score\n",
        "y_pred = clf.predict(X_test)\n",
        "\n",
        "from sklearn.metrics import confusion_matrix\n",
        "cm=confusion_matrix(y_test,y_pred)\n",
        "print(cm)\n",
        "\n",
        "dt=accuracy_score(y_test,y_pred)\n",
        "dt"
      ]
    }
  ],
  "metadata": {
    "kernelspec": {
      "display_name": "Python 3 (ipykernel)",
      "language": "python",
      "name": "python3"
    },
    "language_info": {
      "codemirror_mode": {
        "name": "ipython",
        "version": 3
      },
      "file_extension": ".py",
      "mimetype": "text/x-python",
      "name": "python",
      "nbconvert_exporter": "python",
      "pygments_lexer": "ipython3",
      "version": "3.9.7"
    },
    "colab": {
      "provenance": []
    }
  },
  "nbformat": 4,
  "nbformat_minor": 0
}